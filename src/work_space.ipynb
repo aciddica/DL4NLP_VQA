{
 "cells": [
  {
   "cell_type": "code",
   "execution_count": 1,
   "metadata": {},
   "outputs": [],
   "source": [
    "import numpy as np\n",
    "config = {\n",
    "    # base info about dataset\n",
    "    'train_num':44375,\n",
    "    'test_num':21435,\n",
    "    'test_num':21435,\n",
    "\n",
    "    # paradim setting\n",
    "    'sentence_len':8,\n",
    "    'use_stopwords':True,\n",
    "\n",
    "}\n",
    "stoplist = set('a the this that these those of on in to for'.split())"
   ]
  },
  {
   "cell_type": "code",
   "execution_count": 2,
   "metadata": {},
   "outputs": [
    {
     "data": {
      "text/plain": [
       "gensim.models.keyedvectors.KeyedVectors"
      ]
     },
     "execution_count": 2,
     "metadata": {},
     "output_type": "execute_result"
    }
   ],
   "source": []
  },
  {
   "cell_type": "code",
   "execution_count": 10,
   "metadata": {},
   "outputs": [],
   "source": [
    "from qa_set import QASet\n",
    "\n",
    "QA = QASet(part=\"train\")"
   ]
  },
  {
   "cell_type": "code",
   "execution_count": 11,
   "metadata": {},
   "outputs": [],
   "source": [
    "qst_vec,ans_vec,image_id = QA.__getitem__(1)"
   ]
  },
  {
   "cell_type": "code",
   "execution_count": 12,
   "metadata": {},
   "outputs": [
    {
     "name": "stdout",
     "output_type": "stream",
     "text": [
      "qst_vec_shape : (8, 100) , ans_vec_shape : (8, 100) , image_id : 393227\n"
     ]
    }
   ],
   "source": [
    "print(\"qst_vec_shape : {} , ans_vec_shape : {} , image_id : {}\".format(qst_vec.shape,ans_vec.shape,image_id))"
   ]
  },
  {
   "cell_type": "code",
   "execution_count": null,
   "metadata": {},
   "outputs": [],
   "source": []
  }
 ],
 "metadata": {
  "kernelspec": {
   "display_name": "Python 3.9.6 64-bit",
   "language": "python",
   "name": "python3"
  },
  "language_info": {
   "codemirror_mode": {
    "name": "ipython",
    "version": 3
   },
   "file_extension": ".py",
   "mimetype": "text/x-python",
   "name": "python",
   "nbconvert_exporter": "python",
   "pygments_lexer": "ipython3",
   "version": "3.9.6"
  },
  "orig_nbformat": 4,
  "vscode": {
   "interpreter": {
    "hash": "676af1503c8c74300806f318004561334c6a287fee8af498029f48d3a5bf6487"
   }
  }
 },
 "nbformat": 4,
 "nbformat_minor": 2
}
