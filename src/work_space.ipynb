{
 "cells": [
  {
   "cell_type": "code",
   "execution_count": 2,
   "metadata": {},
   "outputs": [],
   "source": [
    "import numpy as np\n",
    "config = {\n",
    "    # base info about dataset\n",
    "    'train_num':44375,\n",
    "    'test_num':21435,\n",
    "    'test_num':21435,\n",
    "\n",
    "    # paradim setting\n",
    "    'sentence_len':8,\n",
    "    'use_stopwords':True,\n",
    "\n",
    "}\n",
    "stoplist = set('a the this that these those of on in to for'.split())"
   ]
  },
  {
   "cell_type": "code",
   "execution_count": 3,
   "metadata": {},
   "outputs": [
    {
     "name": "stdout",
     "output_type": "stream",
     "text": [
      "train : 44375, eval : 21435, test : 21435\n",
      "87245\n",
      "(87245, 4)\n"
     ]
    },
    {
     "data": {
      "text/html": [
       "<div>\n",
       "<style scoped>\n",
       "    .dataframe tbody tr th:only-of-type {\n",
       "        vertical-align: middle;\n",
       "    }\n",
       "\n",
       "    .dataframe tbody tr th {\n",
       "        vertical-align: top;\n",
       "    }\n",
       "\n",
       "    .dataframe thead th {\n",
       "        text-align: right;\n",
       "    }\n",
       "</style>\n",
       "<table border=\"1\" class=\"dataframe\">\n",
       "  <thead>\n",
       "    <tr style=\"text-align: right;\">\n",
       "      <th></th>\n",
       "      <th>question_id</th>\n",
       "      <th>image_id</th>\n",
       "      <th>question</th>\n",
       "      <th>annotation</th>\n",
       "    </tr>\n",
       "  </thead>\n",
       "  <tbody>\n",
       "    <tr>\n",
       "      <th>0</th>\n",
       "      <td>393223003</td>\n",
       "      <td>393223</td>\n",
       "      <td>[is, she, brushing, &lt;INS&gt;, &lt;INS&gt;, &lt;INS&gt;, &lt;INS&gt;...</td>\n",
       "      <td>yes</td>\n",
       "    </tr>\n",
       "    <tr>\n",
       "      <th>1</th>\n",
       "      <td>393227001</td>\n",
       "      <td>393227</td>\n",
       "      <td>[what, is, this, man, riding, on, &lt;INS&gt;, &lt;INS&gt;]</td>\n",
       "      <td>skateboard</td>\n",
       "    </tr>\n",
       "    <tr>\n",
       "      <th>2</th>\n",
       "      <td>131074002</td>\n",
       "      <td>131074</td>\n",
       "      <td>[are, the, walls, done, in, a, summery, color]</td>\n",
       "      <td>yes</td>\n",
       "    </tr>\n",
       "    <tr>\n",
       "      <th>3</th>\n",
       "      <td>393230003</td>\n",
       "      <td>393230</td>\n",
       "      <td>[what, is, the, man, doing, &lt;INS&gt;, &lt;INS&gt;, &lt;INS&gt;]</td>\n",
       "      <td>skiing</td>\n",
       "    </tr>\n",
       "    <tr>\n",
       "      <th>4</th>\n",
       "      <td>393230005</td>\n",
       "      <td>393230</td>\n",
       "      <td>[what, is, the, person, wearing, &lt;INS&gt;, &lt;INS&gt;,...</td>\n",
       "      <td>skis</td>\n",
       "    </tr>\n",
       "  </tbody>\n",
       "</table>\n",
       "</div>"
      ],
      "text/plain": [
       "   question_id  image_id                                           question  \\\n",
       "0    393223003    393223  [is, she, brushing, <INS>, <INS>, <INS>, <INS>...   \n",
       "1    393227001    393227    [what, is, this, man, riding, on, <INS>, <INS>]   \n",
       "2    131074002    131074     [are, the, walls, done, in, a, summery, color]   \n",
       "3    393230003    393230   [what, is, the, man, doing, <INS>, <INS>, <INS>]   \n",
       "4    393230005    393230  [what, is, the, person, wearing, <INS>, <INS>,...   \n",
       "\n",
       "   annotation  \n",
       "0         yes  \n",
       "1  skateboard  \n",
       "2         yes  \n",
       "3      skiing  \n",
       "4        skis  "
      ]
     },
     "execution_count": 3,
     "metadata": {},
     "output_type": "execute_result"
    }
   ],
   "source": [
    "import utils\n",
    "import pandas as pd\n",
    "import re\n",
    "from copy import deepcopy\n",
    "\n",
    "Q_set,A_set = utils.load_json_file(path = '../data',cleaned=False)\n",
    "for item in Q_set:\n",
    "    qst = item['question']\n",
    "    qst = qst.lower()\n",
    "    qst = re.sub(r\"[^a-zA-Z]+\", r\" \",qst)\n",
    "    qst = qst.strip()\n",
    "    qst_vocab = qst.split(' ')\n",
    "    qst_vocab = utils.sentence_align(qst_vocab,config['sentence_len'])\n",
    "    item['question'] = deepcopy(qst_vocab)\n",
    "    \n",
    "print(len(Q_set))\n",
    "\n",
    "Q_df = pd.DataFrame(Q_set)\n",
    "A_df = pd.DataFrame(A_set)\n",
    "\n",
    "Q_A_df = Q_df.merge(A_df,on = ['question_id','image_id'])\n",
    "Q_A_df = Q_A_df[['question_id','image_id','question','multiple_choice_answer']]\n",
    "Q_A_df['annotation'] = Q_A_df['multiple_choice_answer']\n",
    "Q_A_df = Q_A_df[['question_id','image_id','question','annotation']]\n",
    "\n",
    "print(Q_A_df.shape)\n",
    "Q_A_df.head()\n"
   ]
  },
  {
   "cell_type": "code",
   "execution_count": null,
   "metadata": {},
   "outputs": [],
   "source": [
    "import word2vec\n",
    "word2vec_model = word2vec.load_word2vec('./word_vec/embedding.txt')\n",
    "def qst2tenser(qst,model):\n",
    "    '''\n",
    "    note: 尚未测试,可能有bug\n",
    "    '''\n",
    "    qst_tensor = []\n",
    "    for item in qst:\n",
    "        if item == '<INS>':\n",
    "            qst_tensor.append([[0]*100])\n",
    "        else :\n",
    "            qst_tensor.append(model[item])\n",
    "    return qst_tensor\n",
    "\n",
    "rst = []\n",
    "for item in  Q_A_df['question']:\n",
    "    rst.append(qst2tenser(item,word2vec_model))\n",
    "\n",
    "Q_A_df['question_tensor'] = rst\n",
    "Q_A_df.head()\n",
    "# word2vec_model"
   ]
  },
  {
   "cell_type": "code",
   "execution_count": null,
   "metadata": {},
   "outputs": [],
   "source": []
  }
 ],
 "metadata": {
  "kernelspec": {
   "display_name": "Python 3.9.6 64-bit",
   "language": "python",
   "name": "python3"
  },
  "language_info": {
   "codemirror_mode": {
    "name": "ipython",
    "version": 3
   },
   "file_extension": ".py",
   "mimetype": "text/x-python",
   "name": "python",
   "nbconvert_exporter": "python",
   "pygments_lexer": "ipython3",
   "version": "3.9.6"
  },
  "orig_nbformat": 4,
  "vscode": {
   "interpreter": {
    "hash": "676af1503c8c74300806f318004561334c6a287fee8af498029f48d3a5bf6487"
   }
  }
 },
 "nbformat": 4,
 "nbformat_minor": 2
}
