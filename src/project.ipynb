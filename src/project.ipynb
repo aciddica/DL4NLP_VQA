{
 "cells": [
  {
   "cell_type": "code",
   "execution_count": 1,
   "metadata": {},
   "outputs": [
    {
     "name": "stderr",
     "output_type": "stream",
     "text": [
      "INFO:root:Using MoXing-v2.0.0.rc2.4b57a67b-4b57a67b\n",
      "INFO:root:Using OBS-Python-SDK-3.20.9.1\n",
      "INFO:root:Listing OBS: 1000\n",
      "INFO:root:Listing OBS: 2000\n",
      "INFO:root:Listing OBS: 3000\n",
      "INFO:root:Listing OBS: 4000\n",
      "INFO:root:Listing OBS: 5000\n",
      "INFO:root:Listing OBS: 6000\n",
      "INFO:root:Listing OBS: 7000\n",
      "INFO:root:Listing OBS: 8000\n",
      "INFO:root:Listing OBS: 9000\n",
      "INFO:root:Listing OBS: 10000\n",
      "INFO:root:Listing OBS: 11000\n",
      "INFO:root:Listing OBS: 12000\n",
      "INFO:root:Listing OBS: 13000\n",
      "INFO:root:Listing OBS: 14000\n",
      "INFO:root:Listing OBS: 15000\n",
      "INFO:root:Listing OBS: 16000\n",
      "INFO:root:Listing OBS: 17000\n",
      "INFO:root:Listing OBS: 18000\n",
      "INFO:root:Listing OBS: 19000\n",
      "INFO:root:Listing OBS: 20000\n",
      "INFO:root:Listing OBS: 21000\n",
      "INFO:root:Listing OBS: 22000\n",
      "INFO:root:Listing OBS: 23000\n",
      "INFO:root:Listing OBS: 24000\n",
      "INFO:root:Listing OBS: 25000\n",
      "INFO:root:Listing OBS: 26000\n",
      "INFO:root:Listing OBS: 27000\n",
      "INFO:root:Listing OBS: 28000\n",
      "INFO:root:Listing OBS: 29000\n",
      "INFO:root:Listing OBS: 30000\n",
      "INFO:root:Listing OBS: 31000\n",
      "INFO:root:Listing OBS: 32000\n",
      "INFO:root:Listing OBS: 33000\n",
      "INFO:root:Listing OBS: 34000\n",
      "INFO:root:Listing OBS: 35000\n",
      "INFO:root:Listing OBS: 36000\n",
      "INFO:root:Listing OBS: 37000\n",
      "INFO:root:Listing OBS: 38000\n",
      "INFO:root:Listing OBS: 39000\n",
      "INFO:root:Listing OBS: 40000\n",
      "INFO:root:Listing OBS: 41000\n",
      "INFO:root:Listing OBS: 42000\n",
      "INFO:root:Listing OBS: 43000\n",
      "INFO:root:Listing OBS: 44000\n",
      "INFO:root:Listing OBS: 45000\n",
      "INFO:root:Listing OBS: 46000\n",
      "INFO:root:Listing OBS: 47000\n",
      "INFO:root:Listing OBS: 48000\n",
      "INFO:root:Listing OBS: 49000\n",
      "INFO:root:Listing OBS: 50000\n",
      "INFO:root:Listing OBS: 51000\n",
      "INFO:root:Listing OBS: 52000\n",
      "INFO:root:Listing OBS: 53000\n",
      "INFO:root:Listing OBS: 54000\n",
      "INFO:root:Listing OBS: 55000\n",
      "INFO:root:Listing OBS: 56000\n",
      "INFO:root:Listing OBS: 57000\n",
      "INFO:root:Listing OBS: 58000\n",
      "INFO:root:Listing OBS: 59000\n",
      "INFO:root:Listing OBS: 60000\n",
      "INFO:root:Listing OBS: 61000\n",
      "INFO:root:Listing OBS: 62000\n",
      "INFO:root:Listing OBS: 63000\n",
      "INFO:root:Listing OBS: 64000\n",
      "INFO:root:Listing OBS: 65000\n",
      "INFO:root:Listing OBS: 66000\n",
      "INFO:root:Listing OBS: 67000\n",
      "INFO:root:Listing OBS: 68000\n",
      "INFO:root:Listing OBS: 69000\n",
      "INFO:root:Listing OBS: 70000\n",
      "INFO:root:Listing OBS: 71000\n",
      "INFO:root:pid: None.\t1000/71897\n",
      "INFO:root:pid: None.\t2000/71897\n",
      "INFO:root:pid: None.\t3000/71897\n",
      "INFO:root:pid: None.\t4000/71897\n",
      "INFO:root:pid: None.\t5000/71897\n",
      "INFO:root:pid: None.\t6000/71897\n",
      "INFO:root:pid: None.\t7000/71897\n",
      "INFO:root:pid: None.\t8000/71897\n",
      "INFO:root:pid: None.\t9000/71897\n",
      "INFO:root:pid: None.\t10000/71897\n",
      "INFO:root:pid: None.\t11000/71897\n",
      "INFO:root:pid: None.\t12000/71897\n",
      "INFO:root:pid: None.\t13000/71897\n",
      "INFO:root:pid: None.\t14000/71897\n",
      "INFO:root:pid: None.\t15000/71897\n",
      "INFO:root:pid: None.\t16000/71897\n",
      "INFO:root:pid: None.\t17000/71897\n",
      "INFO:root:pid: None.\t18000/71897\n",
      "INFO:root:pid: None.\t19000/71897\n",
      "INFO:root:pid: None.\t20000/71897\n",
      "INFO:root:pid: None.\t21000/71897\n",
      "INFO:root:pid: None.\t22000/71897\n",
      "INFO:root:pid: None.\t23000/71897\n",
      "INFO:root:pid: None.\t24000/71897\n",
      "INFO:root:pid: None.\t25000/71897\n",
      "INFO:root:pid: None.\t26000/71897\n",
      "INFO:root:pid: None.\t27000/71897\n",
      "INFO:root:pid: None.\t28000/71897\n",
      "INFO:root:pid: None.\t29000/71897\n",
      "INFO:root:pid: None.\t30000/71897\n",
      "INFO:root:pid: None.\t31000/71897\n",
      "INFO:root:pid: None.\t32000/71897\n",
      "INFO:root:pid: None.\t33000/71897\n",
      "INFO:root:pid: None.\t34000/71897\n",
      "INFO:root:pid: None.\t35000/71897\n",
      "INFO:root:pid: None.\t36000/71897\n",
      "INFO:root:pid: None.\t37000/71897\n",
      "INFO:root:pid: None.\t38000/71897\n",
      "INFO:root:pid: None.\t39000/71897\n",
      "INFO:root:pid: None.\t40000/71897\n",
      "INFO:root:pid: None.\t41000/71897\n",
      "INFO:root:pid: None.\t42000/71897\n",
      "INFO:root:pid: None.\t43000/71897\n",
      "INFO:root:pid: None.\t44000/71897\n",
      "INFO:root:pid: None.\t45000/71897\n",
      "INFO:root:pid: None.\t46000/71897\n",
      "INFO:root:pid: None.\t47000/71897\n",
      "INFO:root:pid: None.\t48000/71897\n",
      "INFO:root:pid: None.\t49000/71897\n",
      "INFO:root:pid: None.\t50000/71897\n",
      "INFO:root:pid: None.\t51000/71897\n",
      "INFO:root:pid: None.\t52000/71897\n",
      "INFO:root:pid: None.\t53000/71897\n",
      "INFO:root:pid: None.\t54000/71897\n",
      "INFO:root:pid: None.\t55000/71897\n",
      "INFO:root:pid: None.\t56000/71897\n",
      "INFO:root:pid: None.\t57000/71897\n",
      "INFO:root:pid: None.\t58000/71897\n",
      "INFO:root:pid: None.\t59000/71897\n",
      "INFO:root:pid: None.\t60000/71897\n",
      "INFO:root:pid: None.\t61000/71897\n",
      "INFO:root:pid: None.\t62000/71897\n",
      "INFO:root:pid: None.\t63000/71897\n",
      "INFO:root:pid: None.\t64000/71897\n",
      "INFO:root:pid: None.\t65000/71897\n",
      "INFO:root:pid: None.\t66000/71897\n",
      "INFO:root:pid: None.\t67000/71897\n",
      "INFO:root:pid: None.\t68000/71897\n",
      "INFO:root:pid: None.\t69000/71897\n",
      "INFO:root:pid: None.\t70000/71897\n",
      "INFO:root:pid: None.\t71000/71897\n"
     ]
    }
   ],
   "source": [
    "import moxing as mox\n",
    "data_url = \"s3://nlp-pmq/nlp/final/data\"\n",
    "mox.file.copy_parallel(src_url = data_url,dst_url='./data')"
   ]
  },
  {
   "cell_type": "code",
   "execution_count": 2,
   "metadata": {},
   "outputs": [],
   "source": [
    "code_url = \"s3://nlp-pmq/nlp/final/src\"\n",
    "mox.file.copy_parallel(src_url = code_url,dst_url='./')"
   ]
  },
  {
   "cell_type": "markdown",
   "metadata": {},
   "source": [
    "###### "
   ]
  },
  {
   "cell_type": "code",
   "execution_count": 3,
   "metadata": {},
   "outputs": [],
   "source": [
    "import numpy as np\n",
    "config = {\n",
    "    # base info about dataset\n",
    "    'train_num':44375,\n",
    "    'test_num':21435,\n",
    "    'test_num':21435,\n",
    "\n",
    "    # paradim setting\n",
    "    'sentence_len':8,\n",
    "    'use_stopwords':True,\n",
    "\n",
    "}\n",
    "stoplist = set('a the this that these those of on in to for'.split())"
   ]
  },
  {
   "cell_type": "code",
   "execution_count": 4,
   "metadata": {},
   "outputs": [
    {
     "name": "stderr",
     "output_type": "stream",
     "text": [
      "INFO:gensim.models.keyedvectors:loading projection weights from word_vec/embedding.txt\n",
      "INFO:gensim.utils:KeyedVectors lifecycle event {'msg': 'loaded (10408, 100) matrix of type float32 from word_vec/embedding.txt', 'binary': False, 'encoding': 'utf8', 'datetime': '2022-06-28T03:54:05.718030', 'gensim': '4.2.0', 'python': '3.7.6 | packaged by conda-forge | (default, Jun  1 2020, 18:15:32) \\n[GCC 7.5.0]', 'platform': 'Linux-4.19.36-vhulk1907.1.0.h619.eulerosv2r8.aarch64-aarch64-with-centos-2.0-SP8', 'event': 'load_word2vec_format'}\n"
     ]
    }
   ],
   "source": [
    "from qa_set import QASet\n",
    "qaset = QASet('train')"
   ]
  },
  {
   "cell_type": "code",
   "execution_count": 5,
   "metadata": {},
   "outputs": [
    {
     "name": "stdout",
     "output_type": "stream",
     "text": [
      "Looking in indexes: http://repo.myhuaweicloud.com/repository/pypi/simple\n",
      "Requirement already satisfied: gensim in /home/ma-user/miniconda3/envs/MindSpore-python3.7-aarch64/lib/python3.7/site-packages (4.2.0)\n",
      "Requirement already satisfied: smart-open>=1.8.1 in /home/ma-user/miniconda3/envs/MindSpore-python3.7-aarch64/lib/python3.7/site-packages (from gensim) (6.0.0)\n",
      "Requirement already satisfied: numpy>=1.17.0 in /home/ma-user/miniconda3/envs/MindSpore-python3.7-aarch64/lib/python3.7/site-packages (from gensim) (1.17.5)\n",
      "Requirement already satisfied: scipy>=0.18.1 in /home/ma-user/miniconda3/envs/MindSpore-python3.7-aarch64/lib/python3.7/site-packages (from gensim) (1.5.4)\n"
     ]
    }
   ],
   "source": [
    "!pip install gensim"
   ]
  },
  {
   "cell_type": "code",
   "execution_count": null,
   "metadata": {},
   "outputs": [],
   "source": []
  },
  {
   "cell_type": "code",
   "execution_count": 6,
   "metadata": {},
   "outputs": [
    {
     "name": "stdout",
     "output_type": "stream",
     "text": [
      "/home/ma-user/work\n"
     ]
    }
   ],
   "source": [
    "from image_set import ImageSet\n",
    "import os\n",
    "print (os.getcwd())"
   ]
  },
  {
   "cell_type": "code",
   "execution_count": 7,
   "metadata": {},
   "outputs": [],
   "source": [
    "import model"
   ]
  },
  {
   "cell_type": "code",
   "execution_count": 8,
   "metadata": {},
   "outputs": [
    {
     "name": "stdin",
     "output_type": "stream",
     "text": [
      "Warning: this module should be run on image \"mindspore1.7.0-cuda10.1-py3.7-ubuntu18.04\", or you may get tons of errors. Press Enter to continue. \n"
     ]
    },
    {
     "name": "stderr",
     "output_type": "stream",
     "text": [
      "INFO:gensim.models.keyedvectors:loading projection weights from word_vec/embedding.txt\n",
      "INFO:gensim.utils:KeyedVectors lifecycle event {'msg': 'loaded (10408, 100) matrix of type float32 from word_vec/embedding.txt', 'binary': False, 'encoding': 'utf8', 'datetime': '2022-06-28T04:01:49.889283', 'gensim': '4.2.0', 'python': '3.7.6 | packaged by conda-forge | (default, Jun  1 2020, 18:15:32) \\n[GCC 7.5.0]', 'platform': 'Linux-4.19.36-vhulk1907.1.0.h619.eulerosv2r8.aarch64-aarch64-with-centos-2.0-SP8', 'event': 'load_word2vec_format'}\n",
      "INFO:gensim.models.keyedvectors:loading projection weights from word_vec/embedding.txt\n",
      "INFO:gensim.utils:KeyedVectors lifecycle event {'msg': 'loaded (10408, 100) matrix of type float32 from word_vec/embedding.txt', 'binary': False, 'encoding': 'utf8', 'datetime': '2022-06-28T04:02:04.060093', 'gensim': '4.2.0', 'python': '3.7.6 | packaged by conda-forge | (default, Jun  1 2020, 18:15:32) \\n[GCC 7.5.0]', 'platform': 'Linux-4.19.36-vhulk1907.1.0.h619.eulerosv2r8.aarch64-aarch64-with-centos-2.0-SP8', 'event': 'load_word2vec_format'}\n",
      "INFO:gensim.models.keyedvectors:loading projection weights from word_vec/embedding.txt\n",
      "INFO:gensim.utils:KeyedVectors lifecycle event {'msg': 'loaded (10408, 100) matrix of type float32 from word_vec/embedding.txt', 'binary': False, 'encoding': 'utf8', 'datetime': '2022-06-28T04:02:12.366563', 'gensim': '4.2.0', 'python': '3.7.6 | packaged by conda-forge | (default, Jun  1 2020, 18:15:32) \\n[GCC 7.5.0]', 'platform': 'Linux-4.19.36-vhulk1907.1.0.h619.eulerosv2r8.aarch64-aarch64-with-centos-2.0-SP8', 'event': 'load_word2vec_format'}\n"
     ]
    },
    {
     "ename": "RuntimeError",
     "evalue": "mindspore/ccsrc/common/trans.cc:618 PaddingShapeTo4dDefault] Unexpected shape size = 5\n\n# In file /home/ma-user/miniconda3/envs/MindSpore-python3.7-aarch64/lib/python3.7/site-packages/mindspore/nn/optim/sgd.py(31)\n    success = F.depend(success, opt(weight, gradient, learning_rate, accum, momentum, stat))\n                                ^\n",
     "output_type": "error",
     "traceback": [
      "\u001b[0;31m---------------------------------------------------------------------------\u001b[0m",
      "\u001b[0;31mRuntimeError\u001b[0m                              Traceback (most recent call last)",
      "\u001b[0;32m<ipython-input-8-86d6de04f1b5>\u001b[0m in \u001b[0;36m<module>\u001b[0;34m\u001b[0m\n\u001b[1;32m     31\u001b[0m \u001b[0mcallback\u001b[0m \u001b[0;34m=\u001b[0m \u001b[0mVQACallback\u001b[0m\u001b[0;34m(\u001b[0m\u001b[0mdataset\u001b[0m\u001b[0;34m.\u001b[0m\u001b[0mval\u001b[0m\u001b[0;34m)\u001b[0m\u001b[0;34m\u001b[0m\u001b[0;34m\u001b[0m\u001b[0m\n\u001b[1;32m     32\u001b[0m \u001b[0mmodel\u001b[0m \u001b[0;34m=\u001b[0m \u001b[0mmindspore\u001b[0m\u001b[0;34m.\u001b[0m\u001b[0mModel\u001b[0m\u001b[0;34m(\u001b[0m\u001b[0mloss\u001b[0m\u001b[0;34m,\u001b[0m \u001b[0;32mNone\u001b[0m\u001b[0;34m,\u001b[0m \u001b[0moptimizer\u001b[0m\u001b[0;34m)\u001b[0m\u001b[0;34m\u001b[0m\u001b[0;34m\u001b[0m\u001b[0m\n\u001b[0;32m---> 33\u001b[0;31m \u001b[0mmodel\u001b[0m\u001b[0;34m.\u001b[0m\u001b[0mtrain\u001b[0m\u001b[0;34m(\u001b[0m\u001b[0;36m10\u001b[0m\u001b[0;34m,\u001b[0m \u001b[0mdataset\u001b[0m\u001b[0;34m.\u001b[0m\u001b[0mtrain\u001b[0m\u001b[0;34m,\u001b[0m \u001b[0mcallback\u001b[0m\u001b[0;34m)\u001b[0m\u001b[0;34m\u001b[0m\u001b[0;34m\u001b[0m\u001b[0m\n\u001b[0m\u001b[1;32m     34\u001b[0m \u001b[0minput\u001b[0m\u001b[0;34m(\u001b[0m\u001b[0;34m'Training finished.'\u001b[0m\u001b[0;34m)\u001b[0m\u001b[0;34m\u001b[0m\u001b[0;34m\u001b[0m\u001b[0m\n",
      "\u001b[0;32m~/miniconda3/envs/MindSpore-python3.7-aarch64/lib/python3.7/site-packages/mindspore/train/model.py\u001b[0m in \u001b[0;36mtrain\u001b[0;34m(self, epoch, train_dataset, callbacks, dataset_sink_mode, sink_size)\u001b[0m\n\u001b[1;32m    647\u001b[0m                     \u001b[0mcallbacks\u001b[0m\u001b[0;34m=\u001b[0m\u001b[0mcallbacks\u001b[0m\u001b[0;34m,\u001b[0m\u001b[0;34m\u001b[0m\u001b[0;34m\u001b[0m\u001b[0m\n\u001b[1;32m    648\u001b[0m                     \u001b[0mdataset_sink_mode\u001b[0m\u001b[0;34m=\u001b[0m\u001b[0mdataset_sink_mode\u001b[0m\u001b[0;34m,\u001b[0m\u001b[0;34m\u001b[0m\u001b[0;34m\u001b[0m\u001b[0m\n\u001b[0;32m--> 649\u001b[0;31m                     sink_size=sink_size)\n\u001b[0m\u001b[1;32m    650\u001b[0m \u001b[0;34m\u001b[0m\u001b[0m\n\u001b[1;32m    651\u001b[0m     \u001b[0;32mdef\u001b[0m \u001b[0m_eval_dataset_sink_process\u001b[0m\u001b[0;34m(\u001b[0m\u001b[0mself\u001b[0m\u001b[0;34m,\u001b[0m \u001b[0mvalid_dataset\u001b[0m\u001b[0;34m,\u001b[0m \u001b[0mlist_callback\u001b[0m\u001b[0;34m=\u001b[0m\u001b[0;32mNone\u001b[0m\u001b[0;34m,\u001b[0m \u001b[0mcb_params\u001b[0m\u001b[0;34m=\u001b[0m\u001b[0;32mNone\u001b[0m\u001b[0;34m)\u001b[0m\u001b[0;34m:\u001b[0m\u001b[0;34m\u001b[0m\u001b[0;34m\u001b[0m\u001b[0m\n",
      "\u001b[0;32m~/miniconda3/envs/MindSpore-python3.7-aarch64/lib/python3.7/site-packages/mindspore/train/model.py\u001b[0m in \u001b[0;36m_train\u001b[0;34m(self, epoch, train_dataset, callbacks, dataset_sink_mode, sink_size)\u001b[0m\n\u001b[1;32m    437\u001b[0m                 \u001b[0mself\u001b[0m\u001b[0;34m.\u001b[0m\u001b[0m_train_process\u001b[0m\u001b[0;34m(\u001b[0m\u001b[0mepoch\u001b[0m\u001b[0;34m,\u001b[0m \u001b[0mtrain_dataset\u001b[0m\u001b[0;34m,\u001b[0m \u001b[0mlist_callback\u001b[0m\u001b[0;34m,\u001b[0m \u001b[0mcb_params\u001b[0m\u001b[0;34m)\u001b[0m\u001b[0;34m\u001b[0m\u001b[0;34m\u001b[0m\u001b[0m\n\u001b[1;32m    438\u001b[0m             \u001b[0;32melse\u001b[0m\u001b[0;34m:\u001b[0m\u001b[0;34m\u001b[0m\u001b[0;34m\u001b[0m\u001b[0m\n\u001b[0;32m--> 439\u001b[0;31m                 \u001b[0mself\u001b[0m\u001b[0;34m.\u001b[0m\u001b[0m_train_dataset_sink_process\u001b[0m\u001b[0;34m(\u001b[0m\u001b[0mepoch\u001b[0m\u001b[0;34m,\u001b[0m \u001b[0mtrain_dataset\u001b[0m\u001b[0;34m,\u001b[0m \u001b[0mlist_callback\u001b[0m\u001b[0;34m,\u001b[0m \u001b[0mcb_params\u001b[0m\u001b[0;34m,\u001b[0m \u001b[0msink_size\u001b[0m\u001b[0;34m)\u001b[0m\u001b[0;34m\u001b[0m\u001b[0;34m\u001b[0m\u001b[0m\n\u001b[0m\u001b[1;32m    440\u001b[0m \u001b[0;34m\u001b[0m\u001b[0m\n\u001b[1;32m    441\u001b[0m     \u001b[0;34m@\u001b[0m\u001b[0mstaticmethod\u001b[0m\u001b[0;34m\u001b[0m\u001b[0;34m\u001b[0m\u001b[0m\n",
      "\u001b[0;32m~/miniconda3/envs/MindSpore-python3.7-aarch64/lib/python3.7/site-packages/mindspore/train/model.py\u001b[0m in \u001b[0;36m_train_dataset_sink_process\u001b[0;34m(self, epoch, train_dataset, list_callback, cb_params, sink_size)\u001b[0m\n\u001b[1;32m    497\u001b[0m                 \u001b[0mcb_params\u001b[0m\u001b[0;34m.\u001b[0m\u001b[0mtrain_dataset_element\u001b[0m \u001b[0;34m=\u001b[0m \u001b[0minputs\u001b[0m\u001b[0;34m\u001b[0m\u001b[0;34m\u001b[0m\u001b[0m\n\u001b[1;32m    498\u001b[0m                 \u001b[0mlist_callback\u001b[0m\u001b[0;34m.\u001b[0m\u001b[0mstep_begin\u001b[0m\u001b[0;34m(\u001b[0m\u001b[0mrun_context\u001b[0m\u001b[0;34m)\u001b[0m\u001b[0;34m\u001b[0m\u001b[0;34m\u001b[0m\u001b[0m\n\u001b[0;32m--> 499\u001b[0;31m                 \u001b[0moutputs\u001b[0m \u001b[0;34m=\u001b[0m \u001b[0mself\u001b[0m\u001b[0;34m.\u001b[0m\u001b[0m_train_network\u001b[0m\u001b[0;34m(\u001b[0m\u001b[0;34m*\u001b[0m\u001b[0minputs\u001b[0m\u001b[0;34m)\u001b[0m\u001b[0;34m\u001b[0m\u001b[0;34m\u001b[0m\u001b[0m\n\u001b[0m\u001b[1;32m    500\u001b[0m                 \u001b[0;32mif\u001b[0m \u001b[0mis_graph\u001b[0m\u001b[0;34m:\u001b[0m\u001b[0;34m\u001b[0m\u001b[0;34m\u001b[0m\u001b[0m\n\u001b[1;32m    501\u001b[0m                     \u001b[0mcb_params\u001b[0m\u001b[0;34m.\u001b[0m\u001b[0mcur_step_num\u001b[0m \u001b[0;34m+=\u001b[0m \u001b[0mdataset_helper\u001b[0m\u001b[0;34m.\u001b[0m\u001b[0msink_size\u001b[0m\u001b[0;34m(\u001b[0m\u001b[0;34m)\u001b[0m\u001b[0;34m\u001b[0m\u001b[0;34m\u001b[0m\u001b[0m\n",
      "\u001b[0;32m~/miniconda3/envs/MindSpore-python3.7-aarch64/lib/python3.7/site-packages/mindspore/nn/cell.py\u001b[0m in \u001b[0;36m__call__\u001b[0;34m(self, *inputs, **kwargs)\u001b[0m\n\u001b[1;32m    384\u001b[0m             \u001b[0;32mif\u001b[0m \u001b[0mself\u001b[0m\u001b[0;34m.\u001b[0m\u001b[0menable_hook\u001b[0m\u001b[0;34m:\u001b[0m\u001b[0;34m\u001b[0m\u001b[0;34m\u001b[0m\u001b[0m\n\u001b[1;32m    385\u001b[0m                 \u001b[0;32mraise\u001b[0m \u001b[0mValueError\u001b[0m\u001b[0;34m(\u001b[0m\u001b[0;34m\"The graph mode does not support hook function.\"\u001b[0m\u001b[0;34m)\u001b[0m\u001b[0;34m\u001b[0m\u001b[0;34m\u001b[0m\u001b[0m\n\u001b[0;32m--> 386\u001b[0;31m             \u001b[0mout\u001b[0m \u001b[0;34m=\u001b[0m \u001b[0mself\u001b[0m\u001b[0;34m.\u001b[0m\u001b[0mcompile_and_run\u001b[0m\u001b[0;34m(\u001b[0m\u001b[0;34m*\u001b[0m\u001b[0minputs\u001b[0m\u001b[0;34m)\u001b[0m\u001b[0;34m\u001b[0m\u001b[0;34m\u001b[0m\u001b[0m\n\u001b[0m\u001b[1;32m    387\u001b[0m             \u001b[0;32mreturn\u001b[0m \u001b[0mout\u001b[0m\u001b[0;34m\u001b[0m\u001b[0;34m\u001b[0m\u001b[0m\n\u001b[1;32m    388\u001b[0m \u001b[0;34m\u001b[0m\u001b[0m\n",
      "\u001b[0;32m~/miniconda3/envs/MindSpore-python3.7-aarch64/lib/python3.7/site-packages/mindspore/nn/cell.py\u001b[0m in \u001b[0;36mcompile_and_run\u001b[0;34m(self, *inputs)\u001b[0m\n\u001b[1;32m    642\u001b[0m         \"\"\"\n\u001b[1;32m    643\u001b[0m         \u001b[0mself\u001b[0m\u001b[0;34m.\u001b[0m\u001b[0m_auto_parallel_compile_and_run\u001b[0m \u001b[0;34m=\u001b[0m \u001b[0;32mTrue\u001b[0m\u001b[0;34m\u001b[0m\u001b[0;34m\u001b[0m\u001b[0m\n\u001b[0;32m--> 644\u001b[0;31m         \u001b[0mself\u001b[0m\u001b[0;34m.\u001b[0m\u001b[0mcompile\u001b[0m\u001b[0;34m(\u001b[0m\u001b[0;34m*\u001b[0m\u001b[0minputs\u001b[0m\u001b[0;34m)\u001b[0m\u001b[0;34m\u001b[0m\u001b[0;34m\u001b[0m\u001b[0m\n\u001b[0m\u001b[1;32m    645\u001b[0m \u001b[0;34m\u001b[0m\u001b[0m\n\u001b[1;32m    646\u001b[0m         \u001b[0mnew_inputs\u001b[0m \u001b[0;34m=\u001b[0m \u001b[0;34m[\u001b[0m\u001b[0;34m]\u001b[0m\u001b[0;34m\u001b[0m\u001b[0;34m\u001b[0m\u001b[0m\n",
      "\u001b[0;32m~/miniconda3/envs/MindSpore-python3.7-aarch64/lib/python3.7/site-packages/mindspore/nn/cell.py\u001b[0m in \u001b[0;36mcompile\u001b[0;34m(self, *inputs)\u001b[0m\n\u001b[1;32m    629\u001b[0m             \u001b[0minputs\u001b[0m \u001b[0;34m(\u001b[0m\u001b[0mtuple\u001b[0m\u001b[0;34m)\u001b[0m\u001b[0;34m:\u001b[0m \u001b[0mInputs\u001b[0m \u001b[0mof\u001b[0m \u001b[0mthe\u001b[0m \u001b[0mCell\u001b[0m \u001b[0mobject\u001b[0m\u001b[0;34m.\u001b[0m\u001b[0;34m\u001b[0m\u001b[0;34m\u001b[0m\u001b[0m\n\u001b[1;32m    630\u001b[0m         \"\"\"\n\u001b[0;32m--> 631\u001b[0;31m         \u001b[0m_executor\u001b[0m\u001b[0;34m.\u001b[0m\u001b[0mcompile\u001b[0m\u001b[0;34m(\u001b[0m\u001b[0mself\u001b[0m\u001b[0;34m,\u001b[0m \u001b[0;34m*\u001b[0m\u001b[0minputs\u001b[0m\u001b[0;34m,\u001b[0m \u001b[0mphase\u001b[0m\u001b[0;34m=\u001b[0m\u001b[0mself\u001b[0m\u001b[0;34m.\u001b[0m\u001b[0mphase\u001b[0m\u001b[0;34m,\u001b[0m \u001b[0mauto_parallel_mode\u001b[0m\u001b[0;34m=\u001b[0m\u001b[0mself\u001b[0m\u001b[0;34m.\u001b[0m\u001b[0m_auto_parallel_mode\u001b[0m\u001b[0;34m)\u001b[0m\u001b[0;34m\u001b[0m\u001b[0;34m\u001b[0m\u001b[0m\n\u001b[0m\u001b[1;32m    632\u001b[0m \u001b[0;34m\u001b[0m\u001b[0m\n\u001b[1;32m    633\u001b[0m     \u001b[0;32mdef\u001b[0m \u001b[0mcompile_and_run\u001b[0m\u001b[0;34m(\u001b[0m\u001b[0mself\u001b[0m\u001b[0;34m,\u001b[0m \u001b[0;34m*\u001b[0m\u001b[0minputs\u001b[0m\u001b[0;34m)\u001b[0m\u001b[0;34m:\u001b[0m\u001b[0;34m\u001b[0m\u001b[0;34m\u001b[0m\u001b[0m\n",
      "\u001b[0;32m~/miniconda3/envs/MindSpore-python3.7-aarch64/lib/python3.7/site-packages/mindspore/common/api.py\u001b[0m in \u001b[0;36mcompile\u001b[0;34m(self, obj, phase, do_convert, auto_parallel_mode, *args)\u001b[0m\n\u001b[1;32m    529\u001b[0m         \u001b[0menable_ge\u001b[0m \u001b[0;34m=\u001b[0m \u001b[0mcontext\u001b[0m\u001b[0;34m.\u001b[0m\u001b[0mget_context\u001b[0m\u001b[0;34m(\u001b[0m\u001b[0;34m\"enable_ge\"\u001b[0m\u001b[0;34m)\u001b[0m\u001b[0;34m\u001b[0m\u001b[0;34m\u001b[0m\u001b[0m\n\u001b[1;32m    530\u001b[0m         \u001b[0muse_vm\u001b[0m \u001b[0;34m=\u001b[0m \u001b[0;32mnot\u001b[0m \u001b[0menable_ge\u001b[0m \u001b[0;32mor\u001b[0m \u001b[0;34m(\u001b[0m\u001b[0menable_debug_runtime\u001b[0m \u001b[0;32mand\u001b[0m \u001b[0mcontext\u001b[0m\u001b[0;34m.\u001b[0m\u001b[0mget_context\u001b[0m\u001b[0;34m(\u001b[0m\u001b[0;34m\"mode\"\u001b[0m\u001b[0;34m)\u001b[0m \u001b[0;34m==\u001b[0m \u001b[0mcontext\u001b[0m\u001b[0;34m.\u001b[0m\u001b[0mPYNATIVE_MODE\u001b[0m\u001b[0;34m)\u001b[0m\u001b[0;34m\u001b[0m\u001b[0;34m\u001b[0m\u001b[0m\n\u001b[0;32m--> 531\u001b[0;31m         \u001b[0mresult\u001b[0m \u001b[0;34m=\u001b[0m \u001b[0mself\u001b[0m\u001b[0;34m.\u001b[0m\u001b[0m_executor\u001b[0m\u001b[0;34m.\u001b[0m\u001b[0mcompile\u001b[0m\u001b[0;34m(\u001b[0m\u001b[0mobj\u001b[0m\u001b[0;34m,\u001b[0m \u001b[0margs_list\u001b[0m\u001b[0;34m,\u001b[0m \u001b[0mphase\u001b[0m\u001b[0;34m,\u001b[0m \u001b[0muse_vm\u001b[0m\u001b[0;34m,\u001b[0m \u001b[0mself\u001b[0m\u001b[0;34m.\u001b[0m\u001b[0mqueue_name\u001b[0m\u001b[0;34m)\u001b[0m\u001b[0;34m\u001b[0m\u001b[0;34m\u001b[0m\u001b[0m\n\u001b[0m\u001b[1;32m    532\u001b[0m         \u001b[0mself\u001b[0m\u001b[0;34m.\u001b[0m\u001b[0mcompile_cache\u001b[0m\u001b[0;34m[\u001b[0m\u001b[0mphase\u001b[0m\u001b[0;34m]\u001b[0m \u001b[0;34m=\u001b[0m \u001b[0mphase\u001b[0m\u001b[0;34m\u001b[0m\u001b[0;34m\u001b[0m\u001b[0m\n\u001b[1;32m    533\u001b[0m         \u001b[0;32mif\u001b[0m \u001b[0;32mnot\u001b[0m \u001b[0mresult\u001b[0m\u001b[0;34m:\u001b[0m\u001b[0;34m\u001b[0m\u001b[0;34m\u001b[0m\u001b[0m\n",
      "\u001b[0;31mRuntimeError\u001b[0m: mindspore/ccsrc/common/trans.cc:618 PaddingShapeTo4dDefault] Unexpected shape size = 5\n\n# In file /home/ma-user/miniconda3/envs/MindSpore-python3.7-aarch64/lib/python3.7/site-packages/mindspore/nn/optim/sgd.py(31)\n    success = F.depend(success, opt(weight, gradient, learning_rate, accum, momentum, stat))\n                                ^\n"
     ]
    }
   ],
   "source": [
    "import os\n",
    "import mindspore\n",
    "import mindspore.dataset\n",
    "from model import VQANet, VQALoss\n",
    "import test\n",
    "from vqa_set import VQASet\n",
    "import word2vec\n",
    "input(\n",
    "    'Warning: this module should be run on image \"mindspore1.7.0-cuda10.1-py3.7-ubuntu18.04\", '\n",
    "    'or you may get tons of errors. '\n",
    "    'Press Enter to continue.'\n",
    ")\n",
    "os.makedirs('checkpoint', exist_ok = True)\n",
    "class VQACallback(mindspore.train.callback.Callback):\n",
    "    def __init__(self, val, period_save = 1):\n",
    "        super().__init__()\n",
    "        self.val = val\n",
    "        self.period_save = period_save\n",
    "    def epoch_end(self, run_context):\n",
    "        args = run_context.original_args()\n",
    "        net = args.network.net\n",
    "        i_epoch = args.cur_epoch_num\n",
    "        if i_epoch % self.period_save == 0:\n",
    "            mindspore.save_checkpoint(net, f'checkpoint/{i_epoch}.ckpt')\n",
    "        accuracy = test.accuracy(net, self.val)\n",
    "        print(f'[epoch {i_epoch}] loss: {args.net_outputs.asnumpy():f}, validation accuracy: {accuracy}')\n",
    "dataset = VQASet(125, 1429, 1429)\n",
    "net = VQANet()\n",
    "loss = VQALoss(net)\n",
    "optimizer = mindspore.nn.SGD(loss.trainable_params())\n",
    "callback = VQACallback(dataset.val)\n",
    "model = mindspore.Model(loss, None, optimizer)\n",
    "model.train(10, dataset.train, callback)\n",
    "input('Training finished.')\n"
   ]
  },
  {
   "cell_type": "code",
   "execution_count": null,
   "metadata": {},
   "outputs": [],
   "source": []
  },
  {
   "cell_type": "code",
   "execution_count": null,
   "metadata": {},
   "outputs": [],
   "source": []
  },
  {
   "cell_type": "code",
   "execution_count": null,
   "metadata": {},
   "outputs": [],
   "source": []
  }
 ],
 "metadata": {
  "kernelspec": {
   "display_name": "MindSpore",
   "language": "python",
   "name": "mindspore"
  },
  "language_info": {
   "codemirror_mode": {
    "name": "ipython",
    "version": 3
   },
   "file_extension": ".py",
   "mimetype": "text/x-python",
   "name": "python",
   "nbconvert_exporter": "python",
   "pygments_lexer": "ipython3",
   "version": "3.7.10"
  }
 },
 "nbformat": 4,
 "nbformat_minor": 4
}
